{
 "cells": [
  {
   "cell_type": "markdown",
   "id": "ac65d608",
   "metadata": {},
   "source": [
    "# Assignment 1 solution "
   ]
  },
  {
   "cell_type": "raw",
   "id": "da3607b4",
   "metadata": {},
   "source": [
    "Q.1. In the below elements which of them are values or an expression? eg:- values can be integer      or string and expressions will be mathematical operators.\n",
    "     *, 'hello' , -87.8 , - , / , +\n",
    "Ans: The elements '*', '/', '+' are mathematical operators and are therefore expressions. The          elements 'hello', -87.8 are values (a string and a float, respectively). The element '-' can      be either a mathematical operator or a negative sign indicating a negative value, depending      on the context in which it is used."
   ]
  },
  {
   "cell_type": "code",
   "execution_count": null,
   "id": "08ef7b22",
   "metadata": {},
   "outputs": [],
   "source": [
    "Q.2. What is the difference between string and variable?\n",
    "\n",
    "Ans: A string is a sequence of characters that represents text. It is usually enclosed in              quotation marks (single or double, depending on the language). \n",
    "For example, in the following Python code, 'Hello, World!' is a string:\n",
    "            message = 'Hello, World!'\n",
    "            print(message)\n",
    "     A variable, on the other hand, is a named location in a computer's memory where a value can      be stored and retrieved. In programming, variables are used to store values such as numbers,      strings, and objects. The value stored in a variable can be changed or updated.\n",
    "For example, in the following Python code, message is a variable that is assigned the value 'Hello, World!':\n",
    "           message = 'Hello, World!'\n",
    "           print(message)\n",
    "We can also update the value of the 'message' variable:\n",
    "           message = 'Hello, World!'\n",
    "           print(message)\n",
    "           message = 'Hello, Universe!'\n",
    "           print(message)"
   ]
  },
  {
   "cell_type": "raw",
   "id": "e86f7af5",
   "metadata": {},
   "source": [
    "Q.3. Describe three different data types.\n",
    "Ans: There are many different data types that can be used in programming, but here are three          common ones:\n",
    "\n",
    "Integers: An integer is a whole number (positive, negative, or zero) that is not a fraction. In             most programming languages, integers are stored as 32-bit or 64-bit values. Examples of           integers include 42, -7, and 0.\n",
    "\n",
    "Floating-point numbers: A floating-point number, also known as a float, is a number that has a                           decimal point. It is used to represent numbers that are not necessarily                           integers. Floats are usually stored as 64-bit values. Examples of floats                         include 3.14, -2.718, and 0.0.\n",
    "\n",
    "Strings: A string is a sequence of characters that represents text. It is usually enclosed in              quotation marks (single or double, depending on the language). Strings can contain                letters, numbers, and other special characters. Examples of strings include \"Hello,              World!\", \"42\", and \"3.14\"."
   ]
  },
  {
   "cell_type": "code",
   "execution_count": 2,
   "id": "4c7d3518",
   "metadata": {},
   "outputs": [
    {
     "name": "stdout",
     "output_type": "stream",
     "text": [
      "1234 <class 'int'>\n",
      "2400.0 <class 'float'>\n",
      "(20+2.4j) <class 'complex'>\n"
     ]
    }
   ],
   "source": [
    "# Example for int data type\n",
    "int_num=1234\n",
    "print(int_num, type(int_num))\n",
    "# Example for float data type\n",
    "flo_num=2.4e3\n",
    "print(flo_num, type(flo_num))\n",
    "# Example for Complex data type\n",
    "com_num=20+2.4j\n",
    "print(com_num, type(com_num))"
   ]
  },
  {
   "cell_type": "raw",
   "id": "78238cca",
   "metadata": {},
   "source": [
    "Q.4. What is an expression made up of? What do all expressions do?\n",
    "\n",
    "Ans: An expression is a combination of values, variables, and operators that produces a result        when it is evaluated.\n",
    "     Expressions can be made up of a variety of different elements, depending on the programming      language and context. Some common elements that may be used in expressions include:\n",
    "\n",
    "Values: A value is a piece of data that can be used in an expression. Examples of values include         numbers (such as 42 or 3.14), strings (such as \"Hello, World!\"), and Booleans (such as           true or false).\n",
    "\n",
    "Variables: A variable is a named location in a computer's memory where a value can be stored and            retrieved. In programming, variables are often used in expressions to represent values            that may change over time.\n",
    "\n",
    "Operators: An operator is a symbol that performs a specific operation on one or more values.                Examples of operators include arithmetic operators (such as +, -, *, and /),                      comparison operators (such as >, <, and ==), and logical operators (such as &&,||,                and!).\n",
    "                    All expressions produce a result when they are evaluated. The result of an              expression can be a value (such as a number or a string), or it can be a Boolean                  value indicating whether a particular condition is true or false."
   ]
  },
  {
   "cell_type": "raw",
   "id": "70318d21",
   "metadata": {},
   "source": [
    "Q.5. This assignment statements, like spam = 10. What is the difference between an expression and      a statement?\n",
    "Ans: An expression is a combination of values, variables, and operators that produces a result        when it is evaluated. Expressions can be used to perform a variety of operations, such as        arithmetic calculations, string manipulation, and boolean logic. Examples of expressions          include 2 + 2, \"Hello, \" + \"World!\", and x < y.\n",
    "\n",
    "     A statement, on the other hand, is a single line of code that performs a specific action or      task. There are many different types of statements in programming, including assignment          statements, control flow statements, and function calls.\n",
    "\n",
    "     An assignment statement is a type of statement that assigns a value to a variable. In the        statement spam = 10, spam is the variable being assigned a value, and 10 is the value being      assigned to it.\n",
    "\n",
    "So,  the main difference between an expression and a statement is that an expression produces a        result, while a statement performs an action. Expressions are often used as part of larger        statements to perform calculations or other operations."
   ]
  },
  {
   "cell_type": "raw",
   "id": "478f2813",
   "metadata": {},
   "source": [
    "Q.6. After running the following code, what does the variable bacon contain?\n",
    "     bacon = 22\n",
    "     bacon + 1\n",
    "Ans: After running the code, the variable 'bacon' will contain the value 22. The expression            'bacon + 1' produces a result of 23, but it is not being assigned to bacon, so 'bacon'            retains its original value.\n",
    "To update the value of 'bacon' to 23, we need to use an assignment statement like this:\n",
    "     bacon = 22\n",
    "     bacon = bacon + 1\n",
    "Now, after running this code, the variable 'bacon' will contain the value 23."
   ]
  },
  {
   "cell_type": "code",
   "execution_count": 7,
   "id": "cd822c7c",
   "metadata": {},
   "outputs": [
    {
     "name": "stdout",
     "output_type": "stream",
     "text": [
      "22\n"
     ]
    }
   ],
   "source": [
    "# Example Case#1\n",
    "bacon=22\n",
    "bacon+1\n",
    "print(bacon)"
   ]
  },
  {
   "cell_type": "code",
   "execution_count": 8,
   "id": "9f82b761",
   "metadata": {},
   "outputs": [
    {
     "name": "stdout",
     "output_type": "stream",
     "text": [
      "23\n"
     ]
    }
   ],
   "source": [
    "#Example Case#2\n",
    "bacon=22\n",
    "bacon=bacon+1 \n",
    "print(bacon)"
   ]
  },
  {
   "cell_type": "raw",
   "id": "eddb375e",
   "metadata": {},
   "source": [
    "Q.7. What should the values of the following two terms be?\n",
    "    'spam' + 'spamspam'\n",
    "    'spam' * 3\n",
    "\n",
    "Ans: Both expressions evaluate to the string 'spamspamspam' Where as the first expression follows      String Concatentation and the second expression follows String Multiplication"
   ]
  },
  {
   "cell_type": "code",
   "execution_count": 9,
   "id": "eefd3eb6",
   "metadata": {},
   "outputs": [
    {
     "name": "stdout",
     "output_type": "stream",
     "text": [
      "spamspamspam\n",
      "spamspamspam\n"
     ]
    }
   ],
   "source": [
    "print('spam'+'spamspam') # string concatenation\n",
    "print('spam'*3) # string multiplication"
   ]
  },
  {
   "cell_type": "raw",
   "id": "aa5787ad",
   "metadata": {},
   "source": [
    "Q.8. Why is eggs a valid variable name while 100 is invalid?\n",
    "Ans: As per python,Variable names cannot begin with a number. The python rules for naming a            variable are :-\n",
    "\n",
    "   1.Variable name must start with a letter or the underscore character.\n",
    "   2.Variable name cannot start with a number.\n",
    "   3.Variable name can only contain alpha-numeric characters and underscores (A-z, 0-9, & _ ).\n",
    "   4.Variable names are case-sensitive (name, INEURON and ineuron are three different variables).\n",
    "   5.The reserved words(keywords) cannot be used naming the variable."
   ]
  },
  {
   "cell_type": "code",
   "execution_count": 11,
   "id": "a43a6b0e",
   "metadata": {},
   "outputs": [
    {
     "ename": "SyntaxError",
     "evalue": "cannot assign to literal (1743246133.py, line 2)",
     "output_type": "error",
     "traceback": [
      "\u001b[1;36m  Input \u001b[1;32mIn [11]\u001b[1;36m\u001b[0m\n\u001b[1;33m    200='welcome in Ineuron' # Invalid Variable Initilization\u001b[0m\n\u001b[1;37m    ^\u001b[0m\n\u001b[1;31mSyntaxError\u001b[0m\u001b[1;31m:\u001b[0m cannot assign to literal\n"
     ]
    }
   ],
   "source": [
    "code='I am neuron' # Valid variable Initilization\n",
    "200='welcome in Ineuron' # Invalid Variable Initilization\n",
    "print(egg) #prints the value of egg ie Ineuron\n",
    "print(100) # Raises a Syntax Error as 100 is not a valid variable name"
   ]
  },
  {
   "cell_type": "raw",
   "id": "24ab7864",
   "metadata": {},
   "source": [
    "Q.9. What three functions can be used to get the integer, floating-point number, or string            version of a value?\n",
    "Ans: There are several functions that can be used to convert values from one data type to another      in most programming languages. Here are three common functions that can be used to convert        values to integers, floating-point numbers, or strings:\n",
    "\n",
    "int(): This function converts a value to an integer. If the value is a floating-point number, it        will be rounded down to the nearest integer. If the value is a string, it must contain            only numeric characters; otherwise, an error will be raised.\n",
    "\n",
    "float(): This function converts a value to a floating-point number. If the value is an integer,            it will be converted to a floating-point number with no decimal point. If the value is a          string, it must contain a valid numeric value; otherwise, an error will be raised.\n",
    "\n",
    "str(): This function converts a value to a string. If the value is a number (integer or floating-        point), it will be converted to a string representation of that number. If the value is an        object, it will be converted to a string representation of that object."
   ]
  },
  {
   "cell_type": "code",
   "execution_count": 12,
   "id": "0b89bf79",
   "metadata": {},
   "outputs": [
    {
     "name": "stdout",
     "output_type": "stream",
     "text": [
      "int(20.0) ->  10\n",
      "float(30) ->  10.0\n",
      "str(40) ->  10\n"
     ]
    }
   ],
   "source": [
    "# Examples:\n",
    "print('int(20.0) -> ',int(10.0)) # int() function converts given input to int\n",
    "print('float(30) -> ',float(10)) # float() function converts given input to float\n",
    "print('str(40) -> ',str(10)) # str() function converts given input to string"
   ]
  },
  {
   "cell_type": "raw",
   "id": "1efc3188",
   "metadata": {},
   "source": [
    "Q.10. Why does this expression cause an error? How can you fix it?\n",
    "     'I have eaten ' + 99 + ' burritos.'\n",
    "Ans: This cause of error is 99.because 99 is not a string. 99 must be typecasted to a string to        fix this error. the correct way is:\n",
    "Input: 'I have eaten ' + str(99) + 'burritos.'\n",
    "Output: 'I have eaten 99 burritos. \n"
   ]
  },
  {
   "cell_type": "code",
   "execution_count": 13,
   "id": "e6ea1e72",
   "metadata": {},
   "outputs": [
    {
     "name": "stdout",
     "output_type": "stream",
     "text": [
      "I have eaten 99 burritos\n"
     ]
    }
   ],
   "source": [
    "print('I have eaten '+str(99)+' burritos')"
   ]
  },
  {
   "cell_type": "code",
   "execution_count": null,
   "id": "56a2fef3",
   "metadata": {},
   "outputs": [],
   "source": []
  }
 ],
 "metadata": {
  "kernelspec": {
   "display_name": "Python 3 (ipykernel)",
   "language": "python",
   "name": "python3"
  },
  "language_info": {
   "codemirror_mode": {
    "name": "ipython",
    "version": 3
   },
   "file_extension": ".py",
   "mimetype": "text/x-python",
   "name": "python",
   "nbconvert_exporter": "python",
   "pygments_lexer": "ipython3",
   "version": "3.9.12"
  }
 },
 "nbformat": 4,
 "nbformat_minor": 5
}
